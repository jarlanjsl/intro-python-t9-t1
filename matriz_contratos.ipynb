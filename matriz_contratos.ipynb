{
 "cells": [
  {
   "cell_type": "markdown",
   "metadata": {
    "id": "SDBh-xrM9Pfu"
   },
   "source": [
    "<img src=\"imgs/UNIFOR_logo1b.png\" width=\"400\">\n",
    "<br>\n",
    "<b>\n",
    "<font size=\"6\" face=\"arial\" color=\"blue\">\n",
    "    MBA em Gestão Analitica com BI e Big Data\n",
    "</font>\n",
    "</b>\n",
    "<br>\n",
    "<b>\n",
    "<font size=\"4\" face=\"arial\">\n",
    "    Disciplina: Análise de Dados com Python\n",
    "</font>\n",
    "</b>\n",
    "\n",
    "Orientador: Prof. Me. Ricardo Carubbi <br>\n",
    "\n",
    "**TRABALHO 1**: CARREGAMENTO, LEITURA E ESTRUTURA DE DADOS <br>\n",
    "\n",
    "**Grupo**:\n",
    "1. Nome: Nome do aluno 1 | Mat: Matrículo do aluno 1 <br>\n",
    "2. Nome: Nome do aluno 2 | Mat: Matrículo do aluno 2 <br>\n",
    "3. Nome: Nome do aluno 3 | Mat: Matrículo do aluno 3 <br>\n",
    "4. Nome: Nome do aluno 4 | Mat: Matrículo do aluno 4 <br>\n",
    "5. Nome: Nome do aluno 5 | Mat: Matrículo do aluno 5 <br>\n"
   ]
  },
  {
   "cell_type": "markdown",
   "metadata": {
    "id": "1DfZksSUZBDy"
   },
   "source": [
    "## **Etapa 1**: Instalações de softwares e extensões\n",
    "\n",
    "Aqui estão as instruções detalhadas para configurar um ambiente virtual no Python e configurar o Visual Studio Code (VS Code) para implementar o projeto da matriz de contratos:"
   ]
  },
  {
   "cell_type": "markdown",
   "metadata": {
    "id": "gD31MFVkZ6Iq"
   },
   "source": [
    "### **Instalar o Python**\n",
    "\n",
    "Se você ainda não instalou o Python, siga as instruções abaixo:\n",
    "\n",
    "1. Baixe a versão mais recente do Python [aqui](https://www.python.org/downloads/).\n",
    "2. Durante a instalação, marque a opção *\"Add Python to PATH\"* para garantir que o Python seja acessível a partir do terminal."
   ]
  },
  {
   "cell_type": "markdown",
   "metadata": {
    "id": "eSuFak76ag-L"
   },
   "source": [
    "### **Instalar o Visual Studio Code (VS Code)**\n",
    "\n",
    "Se você ainda não tem o VS Code instalado, siga as etapas abaixo:\n",
    "\n",
    "1. Baixe o VS Code [aqui](https://code.visualstudio.com/Download).\n",
    "2. Instale o VS Code com as configurações padrão."
   ]
  },
  {
   "cell_type": "markdown",
   "metadata": {
    "id": "DOse-xYxa1tm"
   },
   "source": [
    "### **Instalar a Extensão Python no VS Code**\n",
    "\n",
    "1. Abra o VS Code.\n",
    "2. Vá para a seção Extensões (ícone de blocos no lado esquerdo).\n",
    "3. Pesquise por `Python` e instale a extensão oficial desenvolvida pela Microsoft."
   ]
  },
  {
   "cell_type": "markdown",
   "metadata": {
    "id": "7C42IU1SbL_y"
   },
   "source": [
    "## **Etapa 2**: Configuração do ambiente de desenvolvimento\n",
    "\n",
    "Um ambiente virtual no Python permite isolar as dependências do seu projeto, o que é uma boa prática para evitar conflitos entre diferentes projetos."
   ]
  },
  {
   "cell_type": "markdown",
   "metadata": {
    "id": "OyG-TEplb35R"
   },
   "source": [
    "### **Passo 1**: Abrir o Terminal no VS Code\n",
    "\n",
    "1. Abra o VS Code e navegue até a pasta do seu projeto (ou crie uma nova pasta para ele).\n",
    "2. Abra o terminal integrado no VS Code usando o atalho `Ctrl + `` (crase) ou vá para Terminal > New Terminal."
   ]
  },
  {
   "cell_type": "markdown",
   "metadata": {
    "id": "106__3-KcEaM"
   },
   "source": [
    "### **Passo 2**: Criar o Ambiente Virtual\n",
    "\n",
    "No terminal, digite o seguinte comando para criar o ambiente virtual (substitua venv pelo nome desejado para o ambiente virtual):\n",
    "\n",
    "```bash\n",
    "python -m venv MBA\n",
    "```\n",
    "\n",
    "Aqui, `.venv` é o nome da pasta onde o ambiente virtual será armazenado."
   ]
  },
  {
   "cell_type": "markdown",
   "metadata": {
    "id": "Up6dNauFdSRF"
   },
   "source": [
    "### **Passo 3**: Ativar o Ambiente Virtual\n",
    "\n",
    "* Windows:\n",
    "\n",
    "```bash\n",
    "MBA\\Scripts\\activate\n",
    "```\n",
    "\n",
    "* Mac/Linux:\n",
    "\n",
    "```bash\n",
    "source MBA/bin/activate\n",
    "```\n",
    "\n",
    "Para desativar um ambiente virtual e retornar ao ambiente global do Python, basta digitar: `deactivate`"
   ]
  },
  {
   "cell_type": "markdown",
   "metadata": {
    "id": "jJPUT_9td0yx"
   },
   "source": [
    "### **Passo 4**: Instalar Dependências no Ambiente Virtual\n",
    "\n",
    "Agora que o ambiente virtual está ativo, você pode instalar qualquer dependência necessária para o projeto. Para este projeto de matriz de contratos, você pode precisar de bibliotecas padrão como o próprio Python.\n",
    "\n",
    "Instale quaisquer pacotes necessários com:\n",
    "\n",
    "```bash\n",
    "pip install <nome_do_pacote>\n",
    "```\n",
    "\n",
    "Segue abaixo os pacotes a serem instalados:\n",
    "\n",
    "```bash\n",
    "pip install numpy\n",
    "pip install pandas\n",
    "pip install matplotlib\n",
    "pip install ipykernel\n",
    "pip install gdown\n",
    "pip install jupyterlab\n",
    "```\n",
    "\n",
    "O processp usual é usando um arquivo nomeado como `requirements.txt` que lista todas as dependências necessárias para um projeto em Python. Você pode criar este arquivo no Bloco de Notas com os nomea de todos os pacotes acima, inclusive versões, como no exemplo abaixo:\n",
    "\n",
    "```txt\n",
    "numpy\n",
    "pandas\n",
    "matplotlib\n",
    "ipykernel\n",
    "gdown\n",
    "jupyterlab\n",
    "```\n",
    "\n",
    "Instale os pacotes listados no arquivo com:\n",
    "\n",
    "```bash\n",
    "pip install -r requirements.txt\n",
    "```"
   ]
  },
  {
   "cell_type": "markdown",
   "metadata": {
    "id": "nv6mZt59f0W_"
   },
   "source": [
    "## **Etapa 3**: Configurar o Ambiente Python no VS Code\n",
    "\n",
    "Após ativar o ambiente virtual, você pode configurar o VS Code para usar este ambiente Python específico.\n",
    "\n",
    "1. Pressione Ctrl + Shift + P para abrir a barra de comandos.\n",
    "2. Pesquise por Python: Select Interpreter e selecione o ambiente virtual que você acabou de criar (ele aparecerá na lista).\n",
    "\n",
    "Isso garantirá que o VS Code use o Python e os pacotes instalados no ambiente virtual."
   ]
  },
  {
   "cell_type": "markdown",
   "metadata": {
    "id": "AaNbAdsAAyhS"
   },
   "source": [
    "## **Etapa 4**: Download do dataset\n",
    "Estamos utilizando a função download da biblioteca `gdown`, que facilita o download de arquivos diretamente do Google Drive.\n",
    "\n",
    "**Documentação**:\n",
    " * Instrução `with`: https://docs.python.org/pt-br/3/reference/compound_stmts.html#grammar-token-python-grammar-with_stmt\n",
    " * Função `open`: https://docs.python.org/pt-br/3/library/functions.html#open"
   ]
  },
  {
   "cell_type": "markdown",
   "metadata": {
    "id": "VLbCjTrQD9oE"
   },
   "source": [
    "### 1.1 Importar a função `download` da biblioteca `gdown`"
   ]
  },
  {
   "cell_type": "code",
   "execution_count": 1,
   "metadata": {
    "id": "NVCi91odDlYv"
   },
   "outputs": [],
   "source": [
    "#import gdown\n",
    "from gdown import download"
   ]
  },
  {
   "cell_type": "markdown",
   "metadata": {
    "id": "4R84AIn1EQ-0"
   },
   "source": [
    "### 1.2 Definir a função `download_from_drive`\n",
    "\n",
    "Criar uma função chamada `download_from_drive` que recebe dois parâmetros:\n",
    "\n",
    "* `link`: o link compartilhado do Google Drive.\n",
    "* `filename`: o nome que o arquivo baixado terá.\n",
    "\n",
    "1. **Extrair o ID do Arquivo**: Dentro do link compartilhado do Google Drive, o ID do arquivo é uma parte importante, pois é usado para gerar o URL de download direto. Usamos a função `split()` para quebrar o link em partes, e o ID do arquivo é a quinta parte (índice 5).\n",
    "\n",
    "2. **Criar a URL de Download**: Com o ID do arquivo, construímos uma URL no formato aceito pelo Google Drive para permitir o download direto.\n",
    "\n",
    "3. **Baixar o Arquivo**: Usamos a função download() da biblioteca gdown para baixar o arquivo da URL gerada, salvando-o com o nome especificado em filename. A opção quiet=False garante que o progresso do download seja exibido."
   ]
  },
  {
   "cell_type": "code",
   "execution_count": 2,
   "metadata": {
    "id": "-XjRewl_Azac"
   },
   "outputs": [],
   "source": [
    "# Função para download arquivo TXT\n",
    "filename = \"dataset/dados_entrada.txt\"\n",
    "url = \"https://drive.google.com/file/d/1YjPaHv8aAVsXNzhHxum5gyUDFfY5iw1_/view?usp=sharing\"\n",
    "\n",
    "\n",
    "def download_dataset(url, filename):\n",
    "    id_link = url.split('/')[5]\n",
    "    link = f'https://drive.google.com/uc?id={id_link}'\n",
    "    download(link, filename, quiet=False)\n",
    "\n",
    "    return None\n"
   ]
  },
  {
   "cell_type": "code",
   "execution_count": 3,
   "metadata": {
    "colab": {
     "base_uri": "https://localhost:8080/"
    },
    "executionInfo": {
     "elapsed": 3512,
     "status": "ok",
     "timestamp": 1726494167933,
     "user": {
      "displayName": "Ricardo Carubbi",
      "userId": "14912743243699613788"
     },
     "user_tz": 180
    },
    "id": "aIpQZ9RbBgLj",
    "outputId": "227f5aa8-d1cf-481d-ed1f-7fe8e3fa33ab"
   },
   "outputs": [
    {
     "name": "stderr",
     "output_type": "stream",
     "text": [
      "Downloading...\n",
      "From: https://drive.google.com/uc?id=1YjPaHv8aAVsXNzhHxum5gyUDFfY5iw1_\n",
      "To: c:\\Unifor\\T1\\dataset\\dados_entrada.txt\n",
      "100%|██████████| 146/146 [00:00<00:00, 52.6kB/s]\n"
     ]
    }
   ],
   "source": [
    "# Download arquivo TXT\n",
    "download_dataset(url, filename)\n"
   ]
  },
  {
   "cell_type": "markdown",
   "metadata": {
    "id": "gBaJIfdU-OeX"
   },
   "source": [
    "## **Etapa 5**: Abrir o arquivo\n",
    "A primeira coisa que precisamos fazer é abrir o arquivo. Em Python, usamos a função `open()` para abrir arquivos. Quando abrimos um arquivo, temos duas opções principais:\n",
    "\n",
    "* **Modo de leitura** ('r'): Para apenas ler o arquivo.\n",
    "* **Modo de escrita** ('w' ou 'a'): Para escrever no arquivo (não usado aqui).\n",
    "\n",
    "O arquivo será aberto para leitura ('r'), e é importante fechá-lo depois de usá-lo para liberar os recursos do sistema. Para garantir que o arquivo seja sempre fechado, mesmo se ocorrer algum erro, usamos o bloco `with`. Isso garante que o arquivo seja fechado automaticamente.\n",
    "\n",
    "**Documentação**:\n",
    " * Instrução `with`: https://docs.python.org/pt-br/3/reference/compound_stmts.html#grammar-token-python-grammar-with_stmt\n",
    " * Função `open`: https://docs.python.org/pt-br/3/library/functions.html#open"
   ]
  },
  {
   "cell_type": "code",
   "execution_count": 4,
   "metadata": {
    "id": "rMObgjTsLY-N"
   },
   "outputs": [
    {
     "name": "stdout",
     "output_type": "stream",
     "text": [
      "3 2 30.0\n",
      "1 1 2 105.0\n",
      "1 1 1 10.0\n",
      "2 2 2 20.0\n",
      "1 2 2 100.0\n",
      "2 2 3 60.0\n",
      "1 2 3 102.0\n",
      "1 1 3 108.0\n",
      "2 1 1 80.0\n",
      "1 3 3 10.0\n",
      "2 3 3 50.0\n",
      "2 1 2 95.0\n",
      "2 1 3 115.0\n"
     ]
    }
   ],
   "source": [
    "# Abrir o arquivo em modo de leitura\n",
    "with open(filename, 'r') as arquivo:\n",
    "    # Lendo o arquivo linha por linha\n",
    "    for linha in arquivo:\n",
    "        print(linha.strip())"
   ]
  },
  {
   "cell_type": "code",
   "execution_count": 5,
   "metadata": {
    "colab": {
     "base_uri": "https://localhost:8080/"
    },
    "executionInfo": {
     "elapsed": 11,
     "status": "ok",
     "timestamp": 1726494167934,
     "user": {
      "displayName": "Ricardo Carubbi",
      "userId": "14912743243699613788"
     },
     "user_tz": 180
    },
    "id": "JT8bKgKgNWz9",
    "outputId": "248ce122-aa39-4d58-9277-bc9497a14e2a"
   },
   "outputs": [
    {
     "data": {
      "text/plain": [
       "_io.TextIOWrapper"
      ]
     },
     "execution_count": 5,
     "metadata": {},
     "output_type": "execute_result"
    }
   ],
   "source": [
    "# Tipo de rquivo gerado\n",
    "arquivo = open(filename, 'r')\n",
    "type(arquivo)"
   ]
  },
  {
   "cell_type": "markdown",
   "metadata": {
    "id": "9Ic7SgYZN3N5"
   },
   "source": [
    "O objeto `_io.TextIOWrapper` é o tipo de objeto retornado pelo método `open()` em Python quando abrimos um arquivo em modo texto (por exemplo, 'r' para leitura ou 'w' para escrita). Este objeto atua como um manipulador de arquivos e permite realizar operações de leitura, escrita e fechamento de arquivos.\n",
    "\n",
    "**Métodos Comuns de _io.TextIOWrapper**:\n",
    "\n",
    "1. **read()**: Lê o arquivo inteiro como uma string.\n",
    "2. **readline()**: Lê uma única linha do arquivo por vez.\n",
    "3. **readlines()**: Lê todas as linhas do arquivo e as armazena em uma lista.\n",
    "4. **write()**: Escreve uma string no arquivo.\n",
    "5. **writelines()**: Escreve várias linhas no arquivo a partir de uma lista de strings.\n",
    "6. **close()**: Fecha o arquivo para liberar os recursos."
   ]
  },
  {
   "cell_type": "markdown",
   "metadata": {
    "id": "Xwud5K28MoW8"
   },
   "source": [
    "## **Etapa 6**: Ler a Primeira Linha\n",
    "\n",
    "A primeira linha do arquivo contém três valores: m (número de fornecedores), n (número de contratos) e t (taxa de mudança de fornecedor). Precisamos ler essa linha e separá-la em três partes para obter esses valores.\n",
    "\n",
    "Primeiro, usamos o método `readline()` para ler a primeira linha do arquivo. O método `strip()` remove espaços em branco extras no início e no final da linha, incluindo quebras de linha (\\n), e o método `split()` divide a linha em partes com base nos espaços entre os valores."
   ]
  },
  {
   "cell_type": "code",
   "execution_count": 6,
   "metadata": {},
   "outputs": [
    {
     "data": {
      "text/plain": [
       "['3 2 30.0\\n',\n",
       " '1 1 2 105.0\\n',\n",
       " '1 1 1 10.0\\n',\n",
       " '2 2 2 20.0\\n',\n",
       " '1 2 2 100.0\\n',\n",
       " '2 2 3 60.0\\n',\n",
       " '1 2 3 102.0\\n',\n",
       " '1 1 3 108.0\\n',\n",
       " '2 1 1 80.0\\n',\n",
       " '1 3 3 10.0\\n',\n",
       " '2 3 3 50.0\\n',\n",
       " '2 1 2 95.0\\n',\n",
       " '2 1 3 115.0\\n']"
      ]
     },
     "execution_count": 6,
     "metadata": {},
     "output_type": "execute_result"
    }
   ],
   "source": [
    "# Ler todas as linhas\n",
    "arquivo = open(filename,'r')\n",
    "linhas = arquivo.readlines()\n",
    "linhas"
   ]
  },
  {
   "cell_type": "code",
   "execution_count": 7,
   "metadata": {
    "id": "IpIjpcENLZG5"
   },
   "outputs": [
    {
     "name": "stdout",
     "output_type": "stream",
     "text": [
      "['3', '2', '30.0']\n"
     ]
    }
   ],
   "source": [
    "# Ler a primeira linha e armazenar as variáveis\n",
    "with open(filename, 'r') as arquivo:\n",
    "    primeira_linha = arquivo.readline().strip().split()\n",
    "    print(primeira_linha)\n",
    "    m = int(primeira_linha[0])\n",
    "    n = int(primeira_linha[1])\n",
    "    t = float(primeira_linha[2])\n",
    "arquivo.close()\n"
   ]
  },
  {
   "cell_type": "code",
   "execution_count": 8,
   "metadata": {},
   "outputs": [
    {
     "data": {
      "text/plain": [
       "['1 1 2 105.0\\n',\n",
       " '1 1 1 10.0\\n',\n",
       " '2 2 2 20.0\\n',\n",
       " '1 2 2 100.0\\n',\n",
       " '2 2 3 60.0\\n',\n",
       " '1 2 3 102.0\\n',\n",
       " '1 1 3 108.0\\n',\n",
       " '2 1 1 80.0\\n',\n",
       " '1 3 3 10.0\\n',\n",
       " '2 3 3 50.0\\n',\n",
       " '2 1 2 95.0\\n',\n",
       " '2 1 3 115.0\\n']"
      ]
     },
     "execution_count": 8,
     "metadata": {},
     "output_type": "execute_result"
    }
   ],
   "source": [
    "# Ler a linhas restantes\n",
    "linhas_restantes = linhas[1:]\n",
    "linhas_restantes"
   ]
  },
  {
   "cell_type": "markdown",
   "metadata": {
    "id": "mn1XRA7APJ-v"
   },
   "source": [
    "## **Etapa 7**: Inicializar a Matriz de Contratos\n",
    "\n",
    "Depois de obter os valores de `m` e `n`, precisamos criar uma matriz tridimensional para armazenar os valores dos contratos. A matriz será composta de:\n",
    "\n",
    "1. **Primeira dimensão**: Fornecedores.\n",
    "2. **Segunda dimensão**: Mès de nício do contrato.\n",
    "3. **Terceira dimensão**: Mês de término do contrato.\n",
    "\n",
    "Inicializamos a matriz com valores de infinito (`float('inf')`), que será substituído pelos valores dos contratos conforme os dados do arquivo forem lidos.\n",
    "\n",
    "A matriz terá `n` camadas (uma para cada fornecedor), e cada camada será uma matriz de tamanho `(m+1) x (m+1)`. Usamos `m+1` para lidar com a indexação, já que os índices começam em 1 no arquivo, mas em Python eles começam em 0.\n"
   ]
  },
  {
   "cell_type": "code",
   "execution_count": 9,
   "metadata": {},
   "outputs": [],
   "source": [
    "# Inicializar a matriz de contratos\n",
    "m = int(primeira_linha[0])\n",
    "n = int(primeira_linha[1])\n",
    "t = float(primeira_linha[2])\n",
    "matriz_contratos = [[[float('inf') for _ in range(m+1)] for _ in range(m+1)] for _ in range(n)]"
   ]
  },
  {
   "cell_type": "code",
   "execution_count": 10,
   "metadata": {
    "colab": {
     "base_uri": "https://localhost:8080/"
    },
    "executionInfo": {
     "elapsed": 8,
     "status": "ok",
     "timestamp": 1726494167934,
     "user": {
      "displayName": "Ricardo Carubbi",
      "userId": "14912743243699613788"
     },
     "user_tz": 180
    },
    "id": "uaOR0OlNAK-S",
    "outputId": "780ec5b9-8bbc-4dc8-88f8-0880116bb667"
   },
   "outputs": [
    {
     "name": "stdout",
     "output_type": "stream",
     "text": [
      "[inf, inf, inf, inf]\n",
      "[inf, inf, inf, inf]\n",
      "[inf, inf, inf, inf]\n",
      "[inf, inf, inf, inf]\n",
      "\n",
      "[inf, inf, inf, inf]\n",
      "[inf, inf, inf, inf]\n",
      "[inf, inf, inf, inf]\n",
      "[inf, inf, inf, inf]\n",
      "\n"
     ]
    }
   ],
   "source": [
    "# Imprimir da matriz de contratos\n",
    "for linha in matriz_contratos:\n",
    "    for elemento in linha:\n",
    "        print(elemento)\n",
    "    print()"
   ]
  },
  {
   "cell_type": "markdown",
   "metadata": {
    "id": "TrPkHI8VQ4y-"
   },
   "source": [
    "## **Etapa 8**: Ler o Restante do Arquivo e Preencher a Matriz\n",
    "\n",
    "Agora que a matriz está inicializada, precisamos preencher os valores a partir das linhas restantes do arquivo. Cada linha representa um contrato e contém quatro valores:\n",
    "\n",
    "1. **Fornecedor**: Fornecedor do contrato.\n",
    "2. **Início**: Mês de início do contrato.\n",
    "3. **Fim**: Mês de término do contrato.\n",
    "4. **Valor**: Valor do contrato.\n",
    "\n",
    "Para cada linha (contrato), extraímos esses valores, ajustamos o índice do fornecedor (já que no arquivo o índice começa em 1, mas em Python começa em 0) e armazenamos o valor do contrato na posição correta da matriz."
   ]
  },
  {
   "cell_type": "code",
   "execution_count": 11,
   "metadata": {
    "id": "kDReILwaRZB9"
   },
   "outputs": [],
   "source": [
    "# Preencher a matriz com as linhas restantes\n",
    "for linha in linhas_restantes:\n",
    "    # Separar os valores da linha, e atribuir tipagem\n",
    "    profundidade, mes_inicio_linha, mes_final_coluna, valor = linha.split()\n",
    "    profundidade = int(profundidade) - 1\n",
    "    mes_inicio_linha = int(mes_inicio_linha)\n",
    "    mes_final_coluna = int(mes_final_coluna)\n",
    "    valor = float(valor)\n",
    "\n",
    "    matriz_contratos[profundidade][mes_inicio_linha][mes_final_coluna] = valor"
   ]
  },
  {
   "cell_type": "code",
   "execution_count": 12,
   "metadata": {
    "colab": {
     "base_uri": "https://localhost:8080/"
    },
    "executionInfo": {
     "elapsed": 5,
     "status": "ok",
     "timestamp": 1726494168251,
     "user": {
      "displayName": "Ricardo Carubbi",
      "userId": "14912743243699613788"
     },
     "user_tz": 180
    },
    "id": "I6SvEJxmBzst",
    "outputId": "d32af2b5-90a0-4492-e158-2738ae890c20"
   },
   "outputs": [
    {
     "name": "stdout",
     "output_type": "stream",
     "text": [
      "[inf, inf, inf, inf]\n",
      "[inf, 10.0, 105.0, 108.0]\n",
      "[inf, inf, 100.0, 102.0]\n",
      "[inf, inf, inf, 10.0]\n",
      "\n",
      "[inf, inf, inf, inf]\n",
      "[inf, 80.0, 95.0, 115.0]\n",
      "[inf, inf, 20.0, 60.0]\n",
      "[inf, inf, inf, 50.0]\n",
      "\n"
     ]
    }
   ],
   "source": [
    "# Impressão da matriz de contratos\n",
    "for profundidade in matriz_contratos:\n",
    "    for mes in profundidade:\n",
    "        print(mes)\n",
    "    print()"
   ]
  },
  {
   "cell_type": "markdown",
   "metadata": {
    "id": "xiLitDZiRwcP"
   },
   "source": [
    "## **Etapa 9**: Fechar o Arquivo\n",
    "\n",
    "Após terminar a leitura do arquivo, é importante fechá-lo. Como não estamos usando `with`, o arquivo deverá ser fechado manualmente quando o bloco terminar. Portanto, é necessário chamar `arquivo.close()` explicitamente aqui."
   ]
  },
  {
   "cell_type": "code",
   "execution_count": 13,
   "metadata": {
    "id": "UorcohrWSQYG"
   },
   "outputs": [
    {
     "data": {
      "text/plain": [
       "<function TextIOWrapper.close()>"
      ]
     },
     "execution_count": 13,
     "metadata": {},
     "output_type": "execute_result"
    }
   ],
   "source": [
    "arquivo.close"
   ]
  },
  {
   "cell_type": "markdown",
   "metadata": {
    "id": "LBe9wNIfq3XV"
   },
   "source": [
    "## **Etapa 10**: Exportar a matriz no formato csv"
   ]
  },
  {
   "cell_type": "code",
   "execution_count": 26,
   "metadata": {
    "colab": {
     "base_uri": "https://localhost:8080/",
     "height": 180
    },
    "executionInfo": {
     "elapsed": 294,
     "status": "error",
     "timestamp": 1726494584642,
     "user": {
      "displayName": "Ricardo Carubbi",
      "userId": "14912743243699613788"
     },
     "user_tz": 180
    },
    "id": "7TC1yLRvCPtU",
    "outputId": "444839b0-66f2-4c80-ec0d-f53aff2ebc97"
   },
   "outputs": [],
   "source": [
    "# Função para exportar a matriz de contratos\n"
   ]
  },
  {
   "cell_type": "code",
   "execution_count": 27,
   "metadata": {},
   "outputs": [],
   "source": [
    "# Exportar a matriz de contratos\n"
   ]
  }
 ],
 "metadata": {
  "colab": {
   "authorship_tag": "ABX9TyPbrqwD2H1O2LgEg1IXmiUG",
   "provenance": []
  },
  "kernelspec": {
   "display_name": "MBA",
   "language": "python",
   "name": "python3"
  },
  "language_info": {
   "codemirror_mode": {
    "name": "ipython",
    "version": 3
   },
   "file_extension": ".py",
   "mimetype": "text/x-python",
   "name": "python",
   "nbconvert_exporter": "python",
   "pygments_lexer": "ipython3",
   "version": "3.12.0"
  }
 },
 "nbformat": 4,
 "nbformat_minor": 0
}
